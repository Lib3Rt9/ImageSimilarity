{
 "cells": [
  {
   "cell_type": "code",
   "execution_count": 1,
   "id": "e7648831",
   "metadata": {},
   "outputs": [],
   "source": [
    "# !pip install DeepImageSearch"
   ]
  },
  {
   "cell_type": "code",
   "execution_count": 2,
   "id": "e600ba19",
   "metadata": {},
   "outputs": [],
   "source": [
    "from DeepImageSearch import Load_Data, Search_Setup"
   ]
  },
  {
   "cell_type": "code",
   "execution_count": 3,
   "id": "952624b5",
   "metadata": {},
   "outputs": [],
   "source": [
    "image_list = Load_Data().from_folder([\"dataset\"])"
   ]
  },
  {
   "cell_type": "code",
   "execution_count": 4,
   "id": "9ae0e6a4",
   "metadata": {},
   "outputs": [
    {
     "data": {
      "text/plain": [
       "['dataset\\\\0.jpg',\n",
       " 'dataset\\\\1.jpg',\n",
       " 'dataset\\\\10.jpg',\n",
       " 'dataset\\\\100.jpg',\n",
       " 'dataset\\\\1000.jpg']"
      ]
     },
     "execution_count": 4,
     "metadata": {},
     "output_type": "execute_result"
    }
   ],
   "source": [
    "image_list[:5]"
   ]
  },
  {
   "cell_type": "code",
   "execution_count": 5,
   "id": "6a85a1df",
   "metadata": {},
   "outputs": [
    {
     "name": "stdout",
     "output_type": "stream",
     "text": [
      "\u001b[91m Please Wait Model Is Loading or Downloading From Server!\n",
      "\u001b[92m Model Loaded Successfully: vgg19\n"
     ]
    }
   ],
   "source": [
    " st = Search_Setup(image_list=image_list, model_name='vgg19', pretrained=True, image_count=10000)"
   ]
  },
  {
   "cell_type": "code",
   "execution_count": 6,
   "id": "e3e1b449",
   "metadata": {},
   "outputs": [
    {
     "name": "stdout",
     "output_type": "stream",
     "text": [
      "\u001b[91m Metadata and Features are already present, Do you want Extract Again? Enter yes or no\n",
      "no\n",
      "\u001b[93m Meta data already Present, Please Apply Search!\n",
      "['image_data_features.pkl', 'image_features_vectors.idx']\n"
     ]
    }
   ],
   "source": [
    "st.run_index()"
   ]
  },
  {
   "cell_type": "code",
   "execution_count": 7,
   "id": "f7dc5b47",
   "metadata": {},
   "outputs": [],
   "source": [
    "# # Add new images to the index\n",
    "# st.add_images_to_index(['image_path_1', 'image_path_2'])"
   ]
  },
  {
   "cell_type": "code",
   "execution_count": 8,
   "id": "57b9628a",
   "metadata": {},
   "outputs": [
    {
     "data": {
      "text/plain": [
       "{0: 'dataset\\\\0.jpg',\n",
       " 4267: 'dataset\\\\575.jpg',\n",
       " 3928: 'dataset\\\\4533.jpg',\n",
       " 1842: 'dataset\\\\2656.jpg',\n",
       " 2767: 'dataset\\\\3489.jpg',\n",
       " 3609: 'dataset\\\\4246.jpg',\n",
       " 1205: 'dataset\\\\2082.jpg',\n",
       " 2663: 'dataset\\\\3395.jpg',\n",
       " 3598: 'dataset\\\\4236.jpg',\n",
       " 1072: 'dataset\\\\1963.jpg'}"
      ]
     },
     "execution_count": 8,
     "metadata": {},
     "output_type": "execute_result"
    }
   ],
   "source": [
    "st.get_similar_images(image_path=image_list[0], number_of_images=10)"
   ]
  },
  {
   "cell_type": "code",
   "execution_count": 9,
   "id": "a6c24441",
   "metadata": {},
   "outputs": [],
   "source": [
    "# st.plot_similar_images(image_path=image_list[0], number_of_images=10)"
   ]
  },
  {
   "cell_type": "code",
   "execution_count": null,
   "id": "ea4b8632",
   "metadata": {},
   "outputs": [],
   "source": [
    "st.plot_similar_images(image_path=image_list[0])"
   ]
  },
  {
   "cell_type": "code",
   "execution_count": null,
   "id": "31482064",
   "metadata": {},
   "outputs": [],
   "source": []
  }
 ],
 "metadata": {
  "kernelspec": {
   "display_name": "Python 3 (ipykernel)",
   "language": "python",
   "name": "python3"
  },
  "language_info": {
   "codemirror_mode": {
    "name": "ipython",
    "version": 3
   },
   "file_extension": ".py",
   "mimetype": "text/x-python",
   "name": "python",
   "nbconvert_exporter": "python",
   "pygments_lexer": "ipython3",
   "version": "3.9.13"
  }
 },
 "nbformat": 4,
 "nbformat_minor": 5
}
