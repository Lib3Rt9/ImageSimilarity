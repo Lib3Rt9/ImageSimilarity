{
 "cells": [
  {
   "cell_type": "code",
   "execution_count": 2,
   "id": "c4303358",
   "metadata": {},
   "outputs": [],
   "source": [
    "from DeepImageSearch import Load_Data, Search_Setup"
   ]
  },
  {
   "cell_type": "code",
   "execution_count": 3,
   "id": "fd0846a3",
   "metadata": {},
   "outputs": [
    {
     "data": {
      "text/plain": [
       "['dataset\\\\0.jpg',\n",
       " 'dataset\\\\1.jpg',\n",
       " 'dataset\\\\10.jpg',\n",
       " 'dataset\\\\100.jpg',\n",
       " 'dataset\\\\1000.jpg']"
      ]
     },
     "execution_count": 3,
     "metadata": {},
     "output_type": "execute_result"
    }
   ],
   "source": [
    "image_list = Load_Data().from_folder([\"dataset\"])\n",
    "image_list[:5]"
   ]
  },
  {
   "cell_type": "code",
   "execution_count": 4,
   "id": "f4ae666b",
   "metadata": {},
   "outputs": [
    {
     "name": "stdout",
     "output_type": "stream",
     "text": [
      "\u001b[91m Please Wait Model Is Loading or Downloading From Server!\n",
      "\u001b[92m Model Loaded Successfully: vgg19\n"
     ]
    }
   ],
   "source": [
    " st = Search_Setup(image_list=image_list, model_name='vgg19', pretrained=True, image_count=10000)"
   ]
  },
  {
   "cell_type": "code",
   "execution_count": null,
   "id": "8f11c22f",
   "metadata": {},
   "outputs": [
    {
     "name": "stdout",
     "output_type": "stream",
     "text": [
      "\u001b[91m Metadata and Features are already present, Do you want Extract Again? Enter yes or no\n",
      "yes\n"
     ]
    },
    {
     "name": "stderr",
     "output_type": "stream",
     "text": [
      "  4%|███▌                                                                           | 212/4738 [01:57<58:10,  1.30it/s]"
     ]
    }
   ],
   "source": [
    "st.run_index()"
   ]
  },
  {
   "cell_type": "code",
   "execution_count": null,
   "id": "a6a16879",
   "metadata": {},
   "outputs": [],
   "source": [
    "st.get_similar_images(image_path=image_list[0], number_of_images=10)"
   ]
  },
  {
   "cell_type": "code",
   "execution_count": null,
   "id": "93e1932d",
   "metadata": {},
   "outputs": [],
   "source": [
    "st.plot_similar_images(image_path=image_list[0], number_of_images=10)"
   ]
  }
 ],
 "metadata": {
  "kernelspec": {
   "display_name": "Python 3 (ipykernel)",
   "language": "python",
   "name": "python3"
  },
  "language_info": {
   "codemirror_mode": {
    "name": "ipython",
    "version": 3
   },
   "file_extension": ".py",
   "mimetype": "text/x-python",
   "name": "python",
   "nbconvert_exporter": "python",
   "pygments_lexer": "ipython3",
   "version": "3.9.13"
  }
 },
 "nbformat": 4,
 "nbformat_minor": 5
}
